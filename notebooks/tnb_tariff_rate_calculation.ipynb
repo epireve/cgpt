{
 "cells": [
  {
   "cell_type": "code",
   "execution_count": 1,
   "metadata": {},
   "outputs": [],
   "source": [
    "# Define the tariff rates extracted from the image\n",
    "tariff_rates = [\n",
    "    {'block_size': '200', 'start_kwh': 1, 'end_kwh': 200, 'rate': 0.218},\n",
    "    {'block_size': '100', 'start_kwh': 201, 'end_kwh': 300, 'rate': 0.334},\n",
    "    {'block_size': '300', 'start_kwh': 301, 'end_kwh': 600, 'rate': 0.516},\n",
    "    {'block_size': '300', 'start_kwh': 601, 'end_kwh': 900, 'rate': 0.546},\n",
    "    {'block_size': None, 'start_kwh': 901, 'end_kwh': None, 'rate': 0.571}\n",
    "]\n",
    "\n",
    "# Define the function to calculate energy cost\n",
    "def calculate_energy_cost(kwh_used, tariff_rates):\n",
    "    \"\"\"\n",
    "    Calculate the cost of energy given the kWh used and the tariff rates.\n",
    "    :param kwh_used: int - The total kWh to calculate the cost for.\n",
    "    :param tariff_rates: list - A list of tariff rate tiers.\n",
    "    :return: float - The total cost for the given kWh.\n",
    "    \"\"\"\n",
    "    total_cost = 0\n",
    "    remaining_kwh = kwh_used\n",
    "\n",
    "    for tier in tariff_rates:\n",
    "        if remaining_kwh <= 0:\n",
    "            break\n",
    "        \n",
    "        # If there is no upper limit for the tier, charge all remaining kWh\n",
    "        if tier['end_kwh'] is None:\n",
    "            cost = remaining_kwh * tier['rate']\n",
    "            total_cost += cost\n",
    "            remaining_kwh = 0\n",
    "        else:\n",
    "            # Calculate kWh in the current tier\n",
    "            tier_kwh = min(remaining_kwh, tier['end_kwh'] - tier['start_kwh'] + 1)\n",
    "            cost = tier_kwh * tier['rate']\n",
    "            total_cost += cost\n",
    "            remaining_kwh -= tier_kwh\n",
    "\n",
    "    return total_cost\n"
   ]
  },
  {
   "cell_type": "code",
   "execution_count": 2,
   "metadata": {},
   "outputs": [
    {
     "name": "stdout",
     "output_type": "stream",
     "text": [
      "The total cost for 1200 kWh is RM 566.90\n"
     ]
    }
   ],
   "source": [
    "# Now let's calculate the cost for 1200 kWh\n",
    "total_kwh = 1200\n",
    "total_cost = calculate_energy_cost(total_kwh, tariff_rates)\n",
    "\n",
    "# Print the total cost\n",
    "print(f\"The total cost for {total_kwh} kWh is RM {total_cost:.2f}\")\n"
   ]
  }
 ],
 "metadata": {
  "kernelspec": {
   "display_name": "Python 3",
   "language": "python",
   "name": "python3"
  },
  "language_info": {
   "codemirror_mode": {
    "name": "ipython",
    "version": 3
   },
   "file_extension": ".py",
   "mimetype": "text/x-python",
   "name": "python",
   "nbconvert_exporter": "python",
   "pygments_lexer": "ipython3",
   "version": "3.10.11"
  }
 },
 "nbformat": 4,
 "nbformat_minor": 2
}
